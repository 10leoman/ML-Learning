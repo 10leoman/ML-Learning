{
 "cells": [
  {
   "cell_type": "markdown",
   "metadata": {},
   "source": [
    "#  Assignment  4   - Ineuron MLD                                                              "
   ]
  },
  {
   "cell_type": "markdown",
   "metadata": {},
   "source": [
    " 1.1 Write a Python Program(with class concepts) to find the area of the triangle using the below\n",
    "formula.\n"
   ]
  },
  {
   "cell_type": "markdown",
   "metadata": {},
   "source": [
    "area = (s*(s-a)*(s-b)*(s-c)) ** 0.5\n",
    "\n",
    "\n"
   ]
  },
  {
   "cell_type": "markdown",
   "metadata": {},
   "source": [
    "    Function to take the length of the sides of triangle from user should be defined in the parent\n",
    "class and function to calculate the area should be defined in subclass. \n"
   ]
  },
  {
   "cell_type": "code",
   "execution_count": 132,
   "metadata": {},
   "outputs": [
    {
     "data": {
      "text/plain": [
       "26.832815729997478"
      ]
     },
     "execution_count": 132,
     "metadata": {},
     "output_type": "execute_result"
    }
   ],
   "source": [
    "#Defining the class with __init__ function\n",
    "import math\n",
    "\n",
    "#Defining class to initialize the lengths of the triangle\n",
    "class Lengths:\n",
    "    \n",
    "    def __init__(self,a,b,c):\n",
    "        \n",
    "        self.a = a\n",
    "        self.b = b\n",
    "        self.c = c\n",
    "\n",
    "#Defining a sub class to accept the lengths initialized by the parent class and creating an area method as well        \n",
    "class Areas(Lengths):\n",
    "    def __init__(self,*args):\n",
    "        super(Areas,self).__init__(*args)\n",
    "    \n",
    "    \n",
    "    def area(self):\n",
    "        \n",
    "        s = (self.a+self.b+self.c)/2\n",
    "        area = math.sqrt(s*((s-self.a) * (s-self.b) * (s-self.c)))\n",
    "        return area\n",
    "    \n",
    "\n",
    "y = Areas(7,8,9)\n",
    "y.area()"
   ]
  },
  {
   "cell_type": "code",
   "execution_count": null,
   "metadata": {
    "scrolled": true
   },
   "outputs": [],
   "source": []
  },
  {
   "cell_type": "markdown",
   "metadata": {},
   "source": [
    "1.2 Write a function filter_long_words() that takes a list of words and an integer n and returns\n",
    "the list of words that are longer than n."
   ]
  },
  {
   "cell_type": "code",
   "execution_count": 137,
   "metadata": {},
   "outputs": [],
   "source": [
    "# Defining a Function to accept a list of words and integer to check the length\n",
    "# We can use a list comprehension or a loop\n",
    "\n",
    "def filter_long_words(words,n):\n",
    "    return [word for word in words if len(word)>n]"
   ]
  },
  {
   "cell_type": "code",
   "execution_count": 147,
   "metadata": {},
   "outputs": [
    {
     "data": {
      "text/plain": [
       "['Manish', 'Pahuja', 'hello', 'heya']"
      ]
     },
     "execution_count": 147,
     "metadata": {},
     "output_type": "execute_result"
    }
   ],
   "source": [
    "l = [\"Manish\",\"Pahuja\",\"hello\",\"heya\",\"aba\"]\n",
    "\n",
    "filter_long_words(l,3)\n"
   ]
  },
  {
   "cell_type": "markdown",
   "metadata": {},
   "source": [
    "2.1 Write a Python program using function concept that maps list of words into a list of integers\n",
    "representing the lengths of the corresponding words.\n",
    "Hint: If a list [ ab,cde,erty] is passed on to the python function output should come as [2,3,4]\n",
    "Here 2,3 and 4 are the lengths of the words in the list."
   ]
  },
  {
   "cell_type": "code",
   "execution_count": 143,
   "metadata": {},
   "outputs": [],
   "source": [
    "#Function to convert a list of words into a list of its corresponding lengths\n",
    "#Use either list comprehension or loops\n",
    "\n",
    "def convert_to_lengths(words):\n",
    "    return [len(i) for i in words]"
   ]
  },
  {
   "cell_type": "code",
   "execution_count": 145,
   "metadata": {},
   "outputs": [
    {
     "data": {
      "text/plain": [
       "[5, 6, 5, 1]"
      ]
     },
     "execution_count": 145,
     "metadata": {},
     "output_type": "execute_result"
    }
   ],
   "source": [
    "convert_to_lengths([\"Mansh\",\"pahuja\",\"hello\",\"a\"])"
   ]
  },
  {
   "cell_type": "markdown",
   "metadata": {},
   "source": [
    "2.2 Write a Python function which takes a character (i.e. a string of length 1) and returns True if\n",
    "it is a vowel, False otherwise."
   ]
  },
  {
   "cell_type": "code",
   "execution_count": 214,
   "metadata": {},
   "outputs": [],
   "source": [
    "#Defining a function  to accept the character and check if it is a  vowel\n",
    "\n",
    "\n",
    "def check_vowel(char):\n",
    "\n",
    "    #helps us incase input character is in uppercase\n",
    "    char = char.lower()\n",
    "\n",
    "#Storing the vowels in a list and iterating through it instead of using if condition    \n",
    "    vowels = ['a','e','i','o','u']\n",
    "\n",
    "    for i in range(0,5):\n",
    "        if char ==vowels[i]:\n",
    "            a = True\n",
    "            break\n",
    "        else:\n",
    "            a = False\n",
    "            \n",
    "    return a\n",
    "            "
   ]
  },
  {
   "cell_type": "code",
   "execution_count": 213,
   "metadata": {},
   "outputs": [
    {
     "data": {
      "text/plain": [
       "True"
      ]
     },
     "execution_count": 213,
     "metadata": {},
     "output_type": "execute_result"
    }
   ],
   "source": [
    "check_vowel('U')\n"
   ]
  },
  {
   "cell_type": "code",
   "execution_count": null,
   "metadata": {},
   "outputs": [],
   "source": [
    "\n"
   ]
  },
  {
   "cell_type": "code",
   "execution_count": null,
   "metadata": {},
   "outputs": [],
   "source": []
  },
  {
   "cell_type": "code",
   "execution_count": null,
   "metadata": {},
   "outputs": [],
   "source": []
  },
  {
   "cell_type": "code",
   "execution_count": null,
   "metadata": {},
   "outputs": [],
   "source": []
  },
  {
   "cell_type": "code",
   "execution_count": null,
   "metadata": {},
   "outputs": [],
   "source": []
  }
 ],
 "metadata": {
  "kernelspec": {
   "display_name": "Python 3",
   "language": "python",
   "name": "python3"
  },
  "language_info": {
   "codemirror_mode": {
    "name": "ipython",
    "version": 3
   },
   "file_extension": ".py",
   "mimetype": "text/x-python",
   "name": "python",
   "nbconvert_exporter": "python",
   "pygments_lexer": "ipython3",
   "version": "3.7.4"
  }
 },
 "nbformat": 4,
 "nbformat_minor": 2
}
