{
 "cells": [
  {
   "cell_type": "markdown",
   "metadata": {},
   "source": [
    "5.Create the below pattern using nested for loop in Python.\n"
   ]
  },
  {
   "cell_type": "code",
   "execution_count": null,
   "metadata": {},
   "outputs": [],
   "source": [
    "\"\"\"*\n",
    "   * * \n",
    "   * * *\n",
    "   * * * *\n",
    "   * * * * *\n",
    "   * * * *\n",
    "   * * *\n",
    "   * *\n",
    "   *  \"\"\""
   ]
  },
  {
   "cell_type": "code",
   "execution_count": 6,
   "metadata": {},
   "outputs": [
    {
     "name": "stdout",
     "output_type": "stream",
     "text": [
      "* \r\n",
      "* * \r\n",
      "* * * \r\n",
      "* * * * \r\n",
      "* * * * * \r\n",
      "* * * * * * \r\n",
      "* * * * * \r\n",
      "* * * * \r\n",
      "* * * \r\n",
      "* * \r\n",
      "* \r\n"
     ]
    }
   ],
   "source": [
    "\"\"\" We'll a pair of nested for loops, where one shall iterate through the rows\n",
    "     and columns in the ascending order (upper half of pattern). \n",
    "     The other shall iterate through the rows and columns in descending order ( lower half of pattern )\"\"\"\n",
    "\n",
    "\n",
    "for i in range(0,5):\n",
    "    for k in range(0,i+1):\n",
    "        print(\"*\", end = \" \")\n",
    "    print(\"\\r\")\n",
    "\n",
    "for i in range(5,-1,-1):\n",
    "    for k in range(0,i+1):\n",
    "        print(\"*\", end = \" \")\n",
    "    print(\"\\r\")\n",
    "   "
   ]
  },
  {
   "cell_type": "markdown",
   "metadata": {},
   "source": [
    "\n",
    "\n",
    "\n",
    "2. Write a Python program to reverse a word after accepting the input from the user. \n"
   ]
  },
  {
   "cell_type": "code",
   "execution_count": 7,
   "metadata": {},
   "outputs": [
    {
     "name": "stdout",
     "output_type": "stream",
     "text": [
      " Please Enter the word to be reversed Manish\n",
      "hsinaM\n"
     ]
    }
   ],
   "source": [
    "# There are multiple ways to reverse a word. Lets try some!\n",
    "\n",
    "#Accept the word\n",
    "word = input(prompt = \" Please Enter the word to be reversed \")\n",
    "\n",
    "\n",
    "# One way is to reverse with [::-1]\n",
    "\n",
    "rev_word = word[::-1]\n",
    "\n",
    "print(rev_word)"
   ]
  },
  {
   "cell_type": "code",
   "execution_count": 12,
   "metadata": {},
   "outputs": [
    {
     "name": "stdout",
     "output_type": "stream",
     "text": [
      " Please Enter the word to be reversed man\n",
      "['n', 'a', 'm']\n"
     ]
    }
   ],
   "source": [
    "#Accept the word\n",
    "word = input(prompt = \" Please Enter the word to be reversed \")\n",
    "\n",
    "#Using For loop \n",
    "\n",
    "rev_word = []\n",
    "for i in range(len(word)-1,-1,-1):\n",
    "    rev_word.append(word[i])\n",
    "    \n",
    "print(rev_word)\n",
    "    "
   ]
  },
  {
   "cell_type": "code",
   "execution_count": null,
   "metadata": {},
   "outputs": [],
   "source": []
  }
 ],
 "metadata": {
  "kernelspec": {
   "display_name": "Python 3",
   "language": "python",
   "name": "python3"
  },
  "language_info": {
   "codemirror_mode": {
    "name": "ipython",
    "version": 3
   },
   "file_extension": ".py",
   "mimetype": "text/x-python",
   "name": "python",
   "nbconvert_exporter": "python",
   "pygments_lexer": "ipython3",
   "version": "3.7.4"
  }
 },
 "nbformat": 4,
 "nbformat_minor": 2
}
